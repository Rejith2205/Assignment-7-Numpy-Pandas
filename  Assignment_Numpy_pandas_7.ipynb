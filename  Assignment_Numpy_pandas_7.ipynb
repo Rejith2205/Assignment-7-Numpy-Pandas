{
 "cells": [
  {
   "cell_type": "code",
   "execution_count": null,
   "id": "fe0add71-c988-4fcc-9f11-1b246c754f47",
   "metadata": {},
   "outputs": [],
   "source": [
    "pip install numpy\n"
   ]
  },
  {
   "cell_type": "code",
   "execution_count": 17,
   "id": "e8623197-b826-420d-85b7-9a01cbe2f50a",
   "metadata": {},
   "outputs": [
    {
     "name": "stdout",
     "output_type": "stream",
     "text": [
      "[ 1  2  3  4  5  6  7  8  9 10]\n",
      "[[ 1  2  3  4  5]\n",
      " [ 6  7  8  9 10]]\n"
     ]
    }
   ],
   "source": [
    "import numpy as np\n",
    "\n",
    "# Create a numpy array containing numbers from 1 to 10\n",
    "array1 = np.arange(1, 11)\n",
    "print (array1)\n",
    "\n",
    "# Reshape the array to a 2x5 matrix\n",
    "Array_2D = array1.reshape(2, 5)\n",
    "\n",
    "print(matrix)"
   ]
  },
  {
   "cell_type": "code",
   "execution_count": 19,
   "id": "963406f9-5880-471d-8143-f8882aae451b",
   "metadata": {},
   "outputs": [
    {
     "name": "stdout",
     "output_type": "stream",
     "text": [
      "[ 6  7  8  9 10 11 12 13 14 15 16]\n"
     ]
    }
   ],
   "source": [
    "# Create a NumPy array with numbers from 1 to 20\n",
    "Array2 = np.arange(1, 21)\n",
    "\n",
    "# Extract elements between the 5th and 15th index (both inclusive)\n",
    "Array2_extracted = Array2[5:16]\n",
    "\n",
    "print(Array2_extracted)"
   ]
  },
  {
   "cell_type": "code",
   "execution_count": 56,
   "id": "10fbef8e-8e34-4661-bfe6-a8a5c5ceac88",
   "metadata": {},
   "outputs": [
    {
     "name": "stdout",
     "output_type": "stream",
     "text": [
      "{'oranges': 1, 'bananas': 2, 'apples': 3}\n",
      "oranges    1\n",
      "bananas    2\n",
      "apples     3\n",
      "pears      4\n",
      "dtype: int64\n"
     ]
    }
   ],
   "source": [
    "import pandas as pd\n",
    "\n",
    "# Create the initial Pandas Series\n",
    "data = {'oranges': 1,'bananas': 2,'apples': 3 }\n",
    "series = pd.Series(data)\n",
    "# display the initial Pandas Series\n",
    "print(data)\n",
    "# Add a new item to the series\n",
    "series['pears'] = 4\n",
    "\n",
    "# Display the updated series\n",
    "print(series)\n"
   ]
  },
  {
   "cell_type": "code",
   "execution_count": 60,
   "id": "2385272d-98c6-4e15-8b77-c9af5f3ac071",
   "metadata": {},
   "outputs": [
    {
     "name": "stdout",
     "output_type": "stream",
     "text": [
      "     name  age gender\n",
      "0    Manu   40      M\n",
      "1     Anu   15      F\n",
      "2   Thanu   38      F\n",
      "3  Rejith   45      M\n",
      "4   Divya   42      F\n",
      "5   Jonah   15      M\n",
      "6   Maria   16      F\n",
      "7   Tessa   10      F\n",
      "8    Raju   50      M\n",
      "9   Jincy   40      F\n"
     ]
    }
   ],
   "source": [
    "# Create a dataframe with the following columns: name, age, and gender. The dataframe should have 10 rows of data.\n",
    "Account_details = {\n",
    "    'name': ['Manu', 'Anu', 'Thanu', 'Rejith', 'Divya', 'Jonah', 'Maria', 'Tessa', 'Raju', 'Jincy'],\n",
    "    'age': [40, 15, 38, 45, 42, 15, 16, 10, 50, 40],\n",
    "    'gender': ['M', 'F', 'F', 'M', 'F', 'M', 'F', 'F', 'M', 'F']\n",
    "}\n",
    "\n",
    "# Creating the dataframe\n",
    "df = pd.DataFrame(Account_details)\n",
    "\n",
    "print(df)"
   ]
  },
  {
   "cell_type": "code",
   "execution_count": 62,
   "id": "1d083de1-a93b-413f-b4b1-9147deceb211",
   "metadata": {},
   "outputs": [
    {
     "name": "stdout",
     "output_type": "stream",
     "text": [
      "     name  age gender  Occupation\n",
      "0    Manu   40      M  programmer\n",
      "1     Anu   15      F     Manager\n",
      "2   Thanu   38      F     Analyst\n",
      "3  Rejith   45      M     Manager\n",
      "4   Divya   42      F  programmer\n",
      "5   Jonah   15      M     Analyst\n",
      "6   Maria   16      F     Manager\n",
      "7   Tessa   10      F  programmer\n",
      "8    Raju   50      M     Manager\n",
      "9   Jincy   40      F     Analyst\n"
     ]
    }
   ],
   "source": [
    "#Add a new column to the data frame created  earlier, called \"occupation\". \n",
    "#The values for this column should be Programmer, Manager, and Analyst, corresponding to the rows in the dataframe. \n",
    "occupation=['programmer','Manager','Analyst','Manager','programmer','Analyst','Manager','programmer','Manager','Analyst']\n",
    "df['Occupation']=occupation\n",
    "print(df)\n"
   ]
  },
  {
   "cell_type": "code",
   "execution_count": 64,
   "id": "0dca7859-7ea7-4890-b16c-4b60b033c588",
   "metadata": {},
   "outputs": [
    {
     "name": "stdout",
     "output_type": "stream",
     "text": [
      "     name  age gender  Occupation\n",
      "0    Manu   40      M  programmer\n",
      "2   Thanu   38      F     Analyst\n",
      "3  Rejith   45      M     Manager\n",
      "4   Divya   42      F  programmer\n",
      "8    Raju   50      M     Manager\n",
      "9   Jincy   40      F     Analyst\n"
     ]
    }
   ],
   "source": [
    "# Select rows where age is greater than or equal to 30\n",
    "Age_Selected_df = df[df['age'] >= 30]\n",
    "\n",
    "print(Age_Selected_df)"
   ]
  },
  {
   "cell_type": "code",
   "execution_count": 72,
   "id": "d55ee138-32b3-4a88-875a-de7e5926df8a",
   "metadata": {},
   "outputs": [
    {
     "name": "stdout",
     "output_type": "stream",
     "text": [
      "     name  age gender  Occupation\n",
      "0    Manu   40      M  programmer\n",
      "1   Thanu   38      F     Analyst\n",
      "2  Rejith   45      M     Manager\n",
      "3   Divya   42      F  programmer\n",
      "4    Raju   50      M     Manager\n",
      "5   Jincy   40      F     Analyst\n"
     ]
    }
   ],
   "source": [
    "# Converting the dataframe to a CSV file\n",
    "Age_Selected_df.to_csv('dataframe.csv', index=False)\n",
    "\n",
    "# Reading the CSV file\n",
    "df_from_csv = pd.read_csv('dataframe.csv')\n",
    "# Display the contents of the CSV file\n",
    "print(df_from_csv)\n"
   ]
  },
  {
   "cell_type": "code",
   "execution_count": 74,
   "id": "382d332d-b439-4f7c-a8c9-0ec0e6597b99",
   "metadata": {},
   "outputs": [],
   "source": [
    "import os"
   ]
  },
  {
   "cell_type": "code",
   "execution_count": 76,
   "id": "47076367-a46b-4cac-b6ef-d9c260947c17",
   "metadata": {},
   "outputs": [
    {
     "name": "stdout",
     "output_type": "stream",
     "text": [
      "C:\\Users\\asus\n"
     ]
    }
   ],
   "source": [
    "print(os.getcwd())"
   ]
  },
  {
   "cell_type": "code",
   "execution_count": 82,
   "id": "8beafbd6-5769-4d5d-99c0-7ac4cb752bb4",
   "metadata": {},
   "outputs": [
    {
     "data": {
      "text/html": [
       "<div>\n",
       "<style scoped>\n",
       "    .dataframe tbody tr th:only-of-type {\n",
       "        vertical-align: middle;\n",
       "    }\n",
       "\n",
       "    .dataframe tbody tr th {\n",
       "        vertical-align: top;\n",
       "    }\n",
       "\n",
       "    .dataframe thead th {\n",
       "        text-align: right;\n",
       "    }\n",
       "</style>\n",
       "<table border=\"1\" class=\"dataframe\">\n",
       "  <thead>\n",
       "    <tr style=\"text-align: right;\">\n",
       "      <th></th>\n",
       "      <th>name</th>\n",
       "      <th>age</th>\n",
       "      <th>gender</th>\n",
       "      <th>Occupation</th>\n",
       "    </tr>\n",
       "  </thead>\n",
       "  <tbody>\n",
       "    <tr>\n",
       "      <th>0</th>\n",
       "      <td>Manu</td>\n",
       "      <td>40</td>\n",
       "      <td>M</td>\n",
       "      <td>programmer</td>\n",
       "    </tr>\n",
       "    <tr>\n",
       "      <th>1</th>\n",
       "      <td>Thanu</td>\n",
       "      <td>38</td>\n",
       "      <td>F</td>\n",
       "      <td>Analyst</td>\n",
       "    </tr>\n",
       "    <tr>\n",
       "      <th>2</th>\n",
       "      <td>Rejith</td>\n",
       "      <td>45</td>\n",
       "      <td>M</td>\n",
       "      <td>Manager</td>\n",
       "    </tr>\n",
       "    <tr>\n",
       "      <th>3</th>\n",
       "      <td>Divya</td>\n",
       "      <td>42</td>\n",
       "      <td>F</td>\n",
       "      <td>programmer</td>\n",
       "    </tr>\n",
       "    <tr>\n",
       "      <th>4</th>\n",
       "      <td>Raju</td>\n",
       "      <td>50</td>\n",
       "      <td>M</td>\n",
       "      <td>Manager</td>\n",
       "    </tr>\n",
       "    <tr>\n",
       "      <th>5</th>\n",
       "      <td>Jincy</td>\n",
       "      <td>40</td>\n",
       "      <td>F</td>\n",
       "      <td>Analyst</td>\n",
       "    </tr>\n",
       "  </tbody>\n",
       "</table>\n",
       "</div>"
      ],
      "text/plain": [
       "     name  age gender  Occupation\n",
       "0    Manu   40      M  programmer\n",
       "1   Thanu   38      F     Analyst\n",
       "2  Rejith   45      M     Manager\n",
       "3   Divya   42      F  programmer\n",
       "4    Raju   50      M     Manager\n",
       "5   Jincy   40      F     Analyst"
      ]
     },
     "execution_count": 82,
     "metadata": {},
     "output_type": "execute_result"
    }
   ],
   "source": [
    "df_from_csv"
   ]
  },
  {
   "cell_type": "code",
   "execution_count": null,
   "id": "2e784304-4f72-42c2-97df-02d1290adcc3",
   "metadata": {},
   "outputs": [],
   "source": []
  }
 ],
 "metadata": {
  "kernelspec": {
   "display_name": "Python 3 (ipykernel)",
   "language": "python",
   "name": "python3"
  },
  "language_info": {
   "codemirror_mode": {
    "name": "ipython",
    "version": 3
   },
   "file_extension": ".py",
   "mimetype": "text/x-python",
   "name": "python",
   "nbconvert_exporter": "python",
   "pygments_lexer": "ipython3",
   "version": "3.12.7"
  }
 },
 "nbformat": 4,
 "nbformat_minor": 5
}
